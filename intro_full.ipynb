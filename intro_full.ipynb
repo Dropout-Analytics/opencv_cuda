{
 "cells": [
  {
   "cell_type": "markdown",
   "metadata": {},
   "source": [
    "# Intro to OpenCV CUDA"
   ]
  },
  {
   "cell_type": "markdown",
   "metadata": {},
   "source": [
    "## Single Image"
   ]
  },
  {
   "cell_type": "code",
   "execution_count": null,
   "metadata": {},
   "outputs": [],
   "source": [
    "import cv2 as cv"
   ]
  },
  {
   "cell_type": "code",
   "execution_count": null,
   "metadata": {},
   "outputs": [],
   "source": [
    "gpu_frame = cv.cuda_GpuMat()\n",
    "\n",
    "screenshot = cv.imread('media/drip.png')\n",
    "gpu_frame.upload(screenshot)"
   ]
  },
  {
   "cell_type": "code",
   "execution_count": null,
   "metadata": {},
   "outputs": [],
   "source": [
    "screenshot = cv.cuda.cvtColor(gpu_frame, cv.COLOR_RGB2BGR)\n",
    "screenshot = cv.cuda.resize(screenshot, (400, 400))"
   ]
  },
  {
   "cell_type": "code",
   "execution_count": null,
   "metadata": {},
   "outputs": [],
   "source": [
    "screenshot = screenshot.download()"
   ]
  },
  {
   "cell_type": "code",
   "execution_count": null,
   "metadata": {},
   "outputs": [],
   "source": [
    "# display image\n",
    "from PIL import Image\n",
    "Image.fromarray(screenshot)  # Image.fromarray(screenshot).save('media/resized_drip.png')"
   ]
  },
  {
   "cell_type": "markdown",
   "metadata": {},
   "source": [
    "## Series of Images"
   ]
  },
  {
   "cell_type": "code",
   "execution_count": null,
   "metadata": {},
   "outputs": [],
   "source": [
    "import cv2 as cv\n",
    "\n",
    "import numpy as np\n",
    "from PIL import Image"
   ]
  },
  {
   "cell_type": "code",
   "execution_count": null,
   "metadata": {},
   "outputs": [],
   "source": [
    "\n",
    "img_files = ['bear.png', 'drip.png', 'tldr.png', 'frog.png']\n",
    "\n",
    "# create frame to hold images (cv2.cuda_GpuMat)\n",
    "gpu_frame = cv.cuda_GpuMat()\n",
    "\n",
    "for i in range(len(img_files)):\n",
    "    # load image (CPU)\n",
    "    screenshot = cv.imread(f\"media/{img_files[i]}\")\n",
    "\n",
    "    # fit screenshot to (GPU) frame\n",
    "    gpu_frame.upload(screenshot)\n",
    "    \n",
    "    # translate colors to opencv (numpy.ndarray -> cv2.cuda_GpuMat)\n",
    "    screenshot = cv.cuda.cvtColor(gpu_frame, cv.COLOR_RGB2BGR)\n",
    "    \n",
    "    # inverted threshold @ 100\n",
    "    screenshot = cv.cuda.threshold(screenshot, 105, 255, cv.THRESH_BINARY_INV)\n",
    "        \n",
    "    # resize image\n",
    "    screenshot = cv.cuda.resize(screenshot[1], (200, 200))\n",
    "\n",
    "    # download image from GPU (cv2.cuda_GpuMat -> numpy.ndarray)\n",
    "    screenshot = screenshot.download()\n",
    "    \n",
    "    # replace file name with new image\n",
    "    img_files[i] = screenshot"
   ]
  },
  {
   "cell_type": "code",
   "execution_count": null,
   "metadata": {},
   "outputs": [],
   "source": [
    "# combine all 4 pictures into 1 image\n",
    "top_row = np.concatenate((img_files[0], img_files[1]), axis=1)\n",
    "bottom_row = np.concatenate((img_files[2], img_files[3]), axis=1)\n",
    "big_image = np.concatenate((top_row, bottom_row), axis=0)\n",
    "\n",
    "# display inline with PIL\n",
    "Image.fromarray(big_image)  # Image.fromarray(big_image).save('media/big_image.png')"
   ]
  },
  {
   "cell_type": "markdown",
   "metadata": {},
   "source": [
    "## Dask Delayed"
   ]
  },
  {
   "cell_type": "code",
   "execution_count": null,
   "metadata": {},
   "outputs": [],
   "source": [
    "import cv2 as cv\n",
    "\n",
    "import dask.delayed\n",
    "from dask import compute\n",
    "\n",
    "import numpy as np\n",
    "from PIL import Image"
   ]
  },
  {
   "cell_type": "code",
   "execution_count": null,
   "metadata": {},
   "outputs": [],
   "source": [
    "img_files = ['bear.png', 'drip.png', 'tldr.png', 'frog.png']\n",
    "img_files_2 = ['apple.png', 'eye.png', 'window.png', 'blinds.png']\n",
    "\n",
    "\n",
    "@dask.delayed\n",
    "def preprocess(files):\n",
    "    # copy image files\n",
    "    i_files = files.copy()\n",
    "    \n",
    "    # create GPU frame to hold images\n",
    "    gpu_frame = cv.cuda_GpuMat()\n",
    "    \n",
    "    for i in range(len(i_files)):\n",
    "        # load image (CPU)\n",
    "        screenshot = cv.imread(f'media/{i_files[i]}')\n",
    "\n",
    "        # fit screenshot to (GPU) frame\n",
    "        gpu_frame.upload(screenshot)\n",
    "\n",
    "        # translate colors to opencv (numpy.ndarray -> cv2.cuda_GpuMat)\n",
    "        screenshot = cv.cuda.cvtColor(gpu_frame, cv.COLOR_RGB2BGR)\n",
    "        screenshot = cv.cuda.cvtColor(screenshot, cv.COLOR_BGR2GRAY)\n",
    "\n",
    "        # inverted threshold @ 100\n",
    "        screenshot = cv.cuda.threshold(screenshot, 125, 255, cv.THRESH_BINARY)\n",
    "\n",
    "        # resize image\n",
    "        screenshot = cv.cuda.resize(screenshot[1], (200, 200))\n",
    "        \n",
    "        # download image from GPU (cv2.cuda_GpuMat -> numpy.ndarray)\n",
    "        screenshot = screenshot.download()\n",
    "\n",
    "        # replace file name with new image\n",
    "        i_files[i] = screenshot\n",
    "    \n",
    "    # output preprocessed images\n",
    "    return i_files"
   ]
  },
  {
   "cell_type": "code",
   "execution_count": null,
   "metadata": {},
   "outputs": [],
   "source": [
    "# set the delayed\n",
    "set_a = dask.delayed(preprocess)(img_files)\n",
    "set_b = dask.delayed(preprocess)(img_files_2)\n",
    "\n",
    "# do the delayed\n",
    "out_a, out_b = compute(*[set_a, set_b])"
   ]
  },
  {
   "cell_type": "code",
   "execution_count": null,
   "metadata": {},
   "outputs": [],
   "source": [
    "# combine both sets of 4 into 1 image\n",
    "top_left = np.concatenate((out_a[0], out_a[2]), axis=0)\n",
    "top_right = np.concatenate((out_b[0], out_b[2]), axis=0)\n",
    "bottom_left = np.concatenate((out_a[1], out_a[3]), axis=0)\n",
    "bottom_right = np.concatenate((out_b[1], out_b[3]), axis=0)\n",
    "\n",
    "top_row = np.concatenate((top_left, top_right), axis=1)\n",
    "bottom_row = np.concatenate((bottom_left, bottom_right), axis=1)\n",
    "\n",
    "big_image = np.concatenate((top_row, bottom_row), axis=1)\n",
    "\n",
    "# display inline with PIL\n",
    "Image.fromarray(big_image)  # Image.fromarray(big_image).save('media/delayed_big_image.png')"
   ]
  }
 ],
 "metadata": {
  "kernelspec": {
   "display_name": "Python 3",
   "language": "python",
   "name": "python3"
  },
  "language_info": {
   "codemirror_mode": {
    "name": "ipython",
    "version": 3
   },
   "file_extension": ".py",
   "mimetype": "text/x-python",
   "name": "python",
   "nbconvert_exporter": "python",
   "pygments_lexer": "ipython3",
   "version": "3.6.9"
  }
 },
 "nbformat": 4,
 "nbformat_minor": 4
}
